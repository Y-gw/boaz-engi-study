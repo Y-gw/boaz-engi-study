{
 "cells": [
  {
   "cell_type": "code",
   "execution_count": 1,
   "id": "a4345cee-55ae-4899-957d-763bdba05faf",
   "metadata": {
    "tags": []
   },
   "outputs": [],
   "source": [
    "from pyspark.sql import SparkSession\n",
    "from pyspark.streaming import StreamingContext\n",
    "from pyspark.sql.functions import desc\n",
    "import time\n",
    "from IPython import display\n",
    "from collections import namedtuple\n",
    "import re"
   ]
  },
  {
   "cell_type": "code",
   "execution_count": 2,
   "id": "d31c81fe-caa6-4f8b-88fe-e490d97cdaef",
   "metadata": {
    "tags": []
   },
   "outputs": [],
   "source": [
    "from IPython import display\n",
    "import matplotlib.pyplot as plt\n",
    "import seaborn as sns\n",
    "import pandas\n",
    "# Only works for Jupyter Notebooks!\n",
    "%matplotlib inline \n",
    "\n",
    "# 나눔고딕 폰트 적용\n",
    "plt.rcParams[\"font.family\"] = 'NanumGothic'"
   ]
  },
  {
   "cell_type": "markdown",
   "id": "240f235a-d3db-4afe-ab53-7a9ba906a96f",
   "metadata": {},
   "source": [
    "### socket stream 생성 및 데이터 전처리 과정 정의"
   ]
  },
  {
   "cell_type": "code",
   "execution_count": 3,
   "id": "c3c8af10-a94a-47ac-ba94-bb720c1bf0c9",
   "metadata": {
    "tags": []
   },
   "outputs": [],
   "source": [
    "# SparkSession 생성\n",
    "spark = SparkSession.builder \\\n",
    "    .appName(\"SocketStreamingWordCount\") \\\n",
    "    .getOrCreate()"
   ]
  },
  {
   "cell_type": "code",
   "execution_count": 4,
   "id": "7038b6a7-35d7-4828-8a6f-4aaf25590642",
   "metadata": {
    "tags": []
   },
   "outputs": [],
   "source": [
    "# StreamingContext 생성\n",
    "ssc = StreamingContext(spark.sparkContext, 10)\n",
    "\n",
    "# 소켓 버퍼 크기 설정 (예: 1024 바이트)\n",
    "conf = spark.sparkContext.getConf()\n",
    "conf.set(\"spark.streaming.receiver.maxRate\", \"1024\")\n",
    "\n",
    "# 소켓 스트림 생성\n",
    "socket_stream = ssc.socketTextStream(\"127.0.0.1\", 5555)\n",
    "\n",
    "# 윈도우 설정\n",
    "lines = socket_stream.window(20)"
   ]
  },
  {
   "cell_type": "code",
   "execution_count": 5,
   "id": "6f47da1c-2f85-4081-b898-f40ea93b6f9f",
   "metadata": {
    "tags": []
   },
   "outputs": [],
   "source": [
    "# # 데이터 전처리 및 단어 카운트\n",
    "# def process_stream(rdd):\n",
    "#     if not rdd.isEmpty():\n",
    "#         # DataFrame 생성\n",
    "#         word_df = rdd.toDF([\"word\", \"count\"])\n",
    "#         word_df.createOrReplaceTempView(\"word_counts\")\n",
    "#         # SQL 쿼리 실행\n",
    "#         top_words = spark.sql('SELECT * FROM word_counts ORDER BY count DESC LIMIT 10')"
   ]
  },
  {
   "cell_type": "code",
   "execution_count": 6,
   "id": "2487aef9-3d27-4d61-a097-6dca235e8f93",
   "metadata": {
    "tags": []
   },
   "outputs": [],
   "source": [
    "# 단어 카운트\n",
    "(lines.flatMap(lambda line: line.split(\" \"))  # 공백을 기준으로 단어 분리\n",
    "     .filter(lambda word: len(word) > 1)  # 한 글자 단어 제외\n",
    "     .map(lambda word: (word,1)) # key, value 쌍으로 변환\n",
    "     .reduceByKey(lambda a, b: a + b)  # reduce 연산\n",
    "     .foreachRDD( lambda rdd: rdd.toDF([\"word\",\"count\"]).sort( desc(\"count\")) #  RDD Dataframe에 count수 기준으로 정렬해서 저장 \n",
    "     .limit(10).registerTempTable(\"word_counts\")))"
   ]
  },
  {
   "cell_type": "code",
   "execution_count": 7,
   "id": "7e88f332-c2b7-4d84-9988-49f00d4d5d57",
   "metadata": {
    "tags": []
   },
   "outputs": [],
   "source": [
    "# word_counts.foreachRDD(process_stream)"
   ]
  },
  {
   "cell_type": "markdown",
   "id": "a1cfd9c1-db45-4b7d-98f5-524e70f1673b",
   "metadata": {},
   "source": [
    "### 소켓 스트림 시작"
   ]
  },
  {
   "cell_type": "code",
   "execution_count": 8,
   "id": "28b633a5-7bf5-4b00-89d6-30fcb908da34",
   "metadata": {
    "tags": []
   },
   "outputs": [],
   "source": [
    "ssc.start()"
   ]
  },
  {
   "cell_type": "code",
   "execution_count": 9,
   "id": "1d45d9bc-fe47-4e11-b8d0-32978a3b70df",
   "metadata": {
    "tags": []
   },
   "outputs": [
    {
     "data": {
      "image/png": "[encoded data removed]",
      "text/plain": [
       "<Figure size 1000x800 with 1 Axes>"
      ]
     },
     "metadata": {},
     "output_type": "display_data"
    }
   ],
   "source": [
    "count = 0\n",
    "while count < 10:\n",
    "    time.sleep(3)\n",
    "    try:\n",
    "        # SQL 쿼리로 상위 10개 데이터 추출\n",
    "        top_10_words = spark.sql('SELECT word, count FROM word_counts')\n",
    "        # 판다스 DataFrame으로 변환\n",
    "        top_10_df = top_10_words.toPandas()\n",
    "        \n",
    "        # 시각화\n",
    "        display.clear_output(wait=True)\n",
    "        plt.figure(figsize=(10, 8))\n",
    "        sns.barplot(x=\"count\", y=\"word\", data=top_10_df)\n",
    "        plt.show()\n",
    "        count += 1\n",
    "    except:\n",
    "        print(\"wait\")\n",
    "        time.sleep(3)"
   ]
  },
  {
   "cell_type": "code",
   "execution_count": 10,
   "id": "3a5e227b-28a0-432f-8343-7e790e32d4c7",
   "metadata": {
    "tags": []
   },
   "outputs": [],
   "source": [
    "ssc.stop()"
   ]
  },
  {
   "cell_type": "code",
   "execution_count": null,
   "id": "de889b25-8e48-45a5-9c0e-1fbedd2e3a94",
   "metadata": {},
   "outputs": [],
   "source": []
  }
 ],
 "metadata": {
  "kernelspec": {
   "display_name": "Python 3 (ipykernel)",
   "language": "python",
   "name": "python3"
  },
  "language_info": {
   "codemirror_mode": {
    "name": "ipython",
    "version": 3
   },
   "file_extension": ".py",
   "mimetype": "text/x-python",
   "name": "python",
   "nbconvert_exporter": "python",
   "pygments_lexer": "ipython3",
   "version": "3.10.9"
  }
 },
 "nbformat": 4,
 "nbformat_minor": 5
}
